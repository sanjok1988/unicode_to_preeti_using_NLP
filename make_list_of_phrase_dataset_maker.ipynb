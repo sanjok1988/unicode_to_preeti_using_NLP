{
 "cells": [
  {
   "cell_type": "code",
   "execution_count": 4,
   "id": "fb964209-3a71-468c-90b1-cc8a370ef8c6",
   "metadata": {
    "tags": []
   },
   "outputs": [
    {
     "name": "stdout",
     "output_type": "stream",
     "text": [
      "Processed words saved to output_words.csv\n"
     ]
    }
   ],
   "source": [
    "import pandas as pd\n",
    "import csv\n",
    "\n",
    "def process_unicode_column(input_file, input_column, output_file):\n",
    "    # Read the CSV file\n",
    "    df = pd.read_csv(input_file, encoding='utf-8')\n",
    "    \n",
    "    # Open the output CSV file\n",
    "    with open(output_file, 'w', newline='', encoding='utf-8') as csvfile:\n",
    "        writer = csv.writer(csvfile)\n",
    "        \n",
    "        # Write header\n",
    "        writer.writerow(['Word'])\n",
    "        \n",
    "        # Process each row in the DataFrame\n",
    "        for sentence in df[input_column]:\n",
    "            if pd.notnull(sentence):\n",
    "                # Split the sentence into words and write each word as a new row\n",
    "                for word in sentence.split():\n",
    "                    writer.writerow([word])\n",
    "    \n",
    "    print(f\"Processed words saved to {output_file}\")\n",
    "\n",
    "# Example usage\n",
    "input_file = 'unicode_preeti_dataset.csv'\n",
    "input_column = 'unicode'\n",
    "output_file = 'output_words.csv'\n",
    "\n",
    "process_unicode_column(input_file, input_column, output_file)"
   ]
  },
  {
   "cell_type": "code",
   "execution_count": 6,
   "id": "8b5e5944-5431-4fd1-a784-ab8e96bec026",
   "metadata": {},
   "outputs": [
    {
     "name": "stdout",
     "output_type": "stream",
     "text": [
      "5000 word combinations saved to output_short_phrases.csv\n"
     ]
    }
   ],
   "source": [
    "import pandas as pd\n",
    "import csv\n",
    "import random\n",
    "\n",
    "def get_word_combinations(words, max_len=5):\n",
    "    combos = []\n",
    "    for n in range(1, max_len + 1):\n",
    "        for i in range(len(words) - n + 1):\n",
    "            combo = ' '.join(words[i:i+n])\n",
    "            combos.append(combo)\n",
    "    return combos\n",
    "\n",
    "def process_unicode_column(input_file, input_column, output_file, sample_size=5000):\n",
    "    df = pd.read_csv(input_file, encoding='utf-8')\n",
    "    \n",
    "    all_combinations = []\n",
    "\n",
    "    for sentence in df[input_column]:\n",
    "        if pd.notnull(sentence):\n",
    "            words = sentence.split()\n",
    "            combos = get_word_combinations(words, max_len=3)\n",
    "            all_combinations.extend(combos)\n",
    "    \n",
    "    # Shuffle and sample\n",
    "    random.shuffle(all_combinations)\n",
    "    sampled_combos = all_combinations[:sample_size]\n",
    "\n",
    "    # Write to CSV\n",
    "    with open(output_file, 'w', newline='', encoding='utf-8') as csvfile:\n",
    "        writer = csv.writer(csvfile)\n",
    "        writer.writerow(['Phrase'])\n",
    "        for combo in sampled_combos:\n",
    "            writer.writerow([combo])\n",
    "\n",
    "    print(f\"{len(sampled_combos)} word combinations saved to {output_file}\")\n",
    "\n",
    "# Example usage\n",
    "input_file = 'unicode_preeti_dataset.csv'\n",
    "input_column = 'unicode'\n",
    "output_file = 'output_short_phrases.csv'\n",
    "\n",
    "process_unicode_column(input_file, input_column, output_file)"
   ]
  },
  {
   "cell_type": "code",
   "execution_count": null,
   "id": "c18ad1d4-a34d-418d-afbf-1a3a582c874e",
   "metadata": {},
   "outputs": [],
   "source": []
  }
 ],
 "metadata": {
  "kernelspec": {
   "display_name": "Python 3 (ipykernel)",
   "language": "python",
   "name": "python3"
  },
  "language_info": {
   "codemirror_mode": {
    "name": "ipython",
    "version": 3
   },
   "file_extension": ".py",
   "mimetype": "text/x-python",
   "name": "python",
   "nbconvert_exporter": "python",
   "pygments_lexer": "ipython3",
   "version": "3.11.5"
  }
 },
 "nbformat": 4,
 "nbformat_minor": 5
}
